{
 "cells": [
  {
   "cell_type": "markdown",
   "id": "f9eab880-8503-4315-800d-f82f955bccac",
   "metadata": {},
   "source": [
    "# Instructions: \n",
    "##### To just produce final graph(s) as seen in the paper, run cells in \"Section 1: Setup\" and \"Section 3: Final Graph(s)\" section only, ignore the \"Section 2: Simulations \"\n",
    "##### To run the simulations and produce your own data, run the whole notebook"
   ]
  },
  {
   "cell_type": "markdown",
   "id": "d935c8a7-bd54-4e7a-8c72-20aea4df5f3e",
   "metadata": {},
   "source": [
    "### Section 1: Setup"
   ]
  },
  {
   "cell_type": "code",
   "execution_count": 1,
   "id": "749b475d-19d3-4a2b-925b-b91e1187efc5",
   "metadata": {},
   "outputs": [
    {
     "name": "stdout",
     "output_type": "stream",
     "text": [
      "we want 1 <<< m*deme_density <<< number of demes to keep continous structure\n",
      "1 <<<  0.1  <<<  1000\n"
     ]
    }
   ],
   "source": [
    "import msprime\n",
    "import tskit\n",
    "import numpy as np\n",
    "import matplotlib.pyplot as plt\n",
    "import pandas as pd\n",
    "import pylab\n",
    "import scipy.linalg\n",
    "import matplotlib\n",
    "import csv\n",
    "import random\n",
    "from itertools import groupby\n",
    "import collections\n",
    "from scipy.special import gamma, factorial\n",
    "from scipy import stats\n",
    "\n",
    "import warnings\n",
    "warnings.filterwarnings('ignore')\n",
    "###########################################\n",
    "\n",
    "plt.style.use(\"seaborn-v0_8-white\")\n",
    "matplotlib.rcParams['axes.labelsize'] = 20\n",
    "matplotlib.rcParams['axes.titlesize'] = 24\n",
    "matplotlib.rcParams['xtick.labelsize'] = 15\n",
    "matplotlib.rcParams['xtick.major.size'] = 10\n",
    "matplotlib.rcParams['xtick.minor.size'] = 5\n",
    "matplotlib.rcParams['ytick.labelsize'] = 15\n",
    "matplotlib.rcParams['ytick.major.size'] = 10\n",
    "matplotlib.rcParams['ytick.minor.size'] = 5\n",
    "\n",
    "##############################################\n",
    "def migration_matrix(length, migration_rate):\n",
    "    first_col = np.zeros(length)\n",
    "    first_col[1] = migration_rate\n",
    "    first_col[-1] = migration_rate\n",
    "    result = scipy.linalg.circulant(first_col)\n",
    "    return result\n",
    "\n",
    "##############################################################\n",
    "Deme_density = 50\n",
    "L = 1000 #the number of demes \n",
    "deme_sample_size = Deme_density #deme sample size \n",
    "trials = 50 #number of trials\n",
    "m = 0.002 #migration rate\n",
    "total_sample_size = L * deme_sample_size # total sample size\n",
    "matrix = migration_matrix(L, m/2)\n",
    "\n",
    "population_configurations = L * [msprime.PopulationConfiguration(sample_size=deme_sample_size)]\n",
    "\n",
    "print(\"we want 1 <<< m*deme_density <<< number of demes to keep continous structure\")\n",
    "print(\"1 <<< \",m*Deme_density,\" <<< \",L )\n",
    "    "
   ]
  },
  {
   "cell_type": "code",
   "execution_count": 2,
   "id": "d285cde9-0ff4-41c8-a402-dace0d2213d2",
   "metadata": {},
   "outputs": [
    {
     "name": "stdout",
     "output_type": "stream",
     "text": [
      "The effective population size via Maruyama equation is:  25330295.910584442\n",
      "The real population size is 50000\n"
     ]
    }
   ],
   "source": [
    "Effective_pop = L**2 / (2 * m * np.pi**2)\n",
    "print(\"The effective population size via Maruyama equation is: \", Effective_pop)\n",
    "real_pop = L*Deme_density\n",
    "print(\"The real population size is\", real_pop)\n",
    "\n",
    "# Since we're using branch lengths, the mutation rate is 1\n",
    "Theta_eff = 4* Effective_pop\n",
    "Theta_real = 4 * real_pop"
   ]
  },
  {
   "cell_type": "markdown",
   "id": "d12184cc-df6c-449e-a734-06291b437477",
   "metadata": {},
   "source": [
    "### Section 2: Simulations "
   ]
  },
  {
   "cell_type": "code",
   "execution_count": null,
   "id": "9e70f93c-5485-4a4b-9f70-7db1d23df9c9",
   "metadata": {},
   "outputs": [],
   "source": [
    "afs2 = []\n",
    "\n",
    "for i in range(trials):\n",
    "    ts = msprime.simulate(Ne=Deme_density, population_configurations=population_configurations, migration_matrix=matrix,record_provenance=False)\n",
    "\n",
    "    afs1 = ts.allele_frequency_spectrum(mode=\"branch\", polarised=True, span_normalise=False)\n",
    "    \n",
    "    afs2.append(afs1)\n",
    "    \n",
    "    #print(\"iteration\",i)\n",
    "    \n",
    "afs = np.mean(afs2, 0)"
   ]
  },
  {
   "cell_type": "code",
   "execution_count": 4,
   "id": "62db62b8-08a2-4d3b-b03a-d4ccfb776161",
   "metadata": {},
   "outputs": [],
   "source": [
    "def smooth(x, threshold, rescale):\n",
    "    return [np.mean(x[max(i - (rescale * i) // threshold, 0) : min(i + 1 + (rescale * i) // threshold, len(x))]) for i in range(len(x))]\n",
    "\n",
    "transition_freq=max(Deme_density,(m*Deme_density**2))/total_sample_size\n"
   ]
  },
  {
   "cell_type": "code",
   "execution_count": 5,
   "id": "4f9f8a64-55bc-48e6-ba55-7b5871e479c3",
   "metadata": {},
   "outputs": [],
   "source": [
    "def smooth_sem(x, threshold, rescale):\n",
    "        return [stats.sem(x[max(i - (rescale * i) // threshold, 0) : min(i + 1 + (rescale * i) // threshold, len(x))]) for i in range(len(x))]\n"
   ]
  },
  {
   "cell_type": "code",
   "execution_count": 6,
   "id": "b18d885e-1a0f-405b-82c0-982ea167a3cf",
   "metadata": {},
   "outputs": [],
   "source": [
    "thresh=1000\n",
    "scale=300\n",
    "err=np.array(smooth_sem(afs[1:], threshold=thresh, rescale=scale))"
   ]
  },
  {
   "cell_type": "markdown",
   "id": "8db2aaca-da3f-459d-84e6-2ef691f4a150",
   "metadata": {},
   "source": [
    "#### Producing Single-Deme prediction"
   ]
  },
  {
   "cell_type": "code",
   "execution_count": 8,
   "id": "e8de607f-8f3d-4021-b627-970156f4faa0",
   "metadata": {},
   "outputs": [],
   "source": [
    "a=[]\n",
    "y=np.arange(1,total_sample_size)/total_sample_size\n",
    "for i in range (len(y)):\n",
    "    if np.min(y)<=y[i]<=transition_freq:\n",
    "        a.append(y[i])\n",
    "x_shifted=np.array(a) #allele frequencies before transition\n",
    "x=np.array(x_shifted)*1/(np.max(x_shifted)) #intra-deme allele frequencies\n"
   ]
  },
  {
   "cell_type": "code",
   "execution_count": 9,
   "id": "985e6a06-10ef-4641-bf93-f54c02cf0210",
   "metadata": {},
   "outputs": [],
   "source": [
    "\n",
    "b_equation = x**(-1) * ((1-x)**(4 * Deme_density * m - 1)) #denominator=scipy.special.gamma(2*Beta_1)*scipy.special.gamma(2*Beta_2)\n",
    "\n",
    "Omega  = (Theta_real / np.arange(1,total_sample_size))[0]/b_equation[0] #normalization constant \n",
    "\n",
    "single_deme_pred = Omega * b_equation\n"
   ]
  },
  {
   "cell_type": "markdown",
   "id": "f481f4dc-6373-46c8-8570-1368b579d1c8",
   "metadata": {},
   "source": [
    "#### Producing voter model prediction"
   ]
  },
  {
   "cell_type": "code",
   "execution_count": 10,
   "id": "9b7c6601-3e6c-41dc-adb7-5c3c3dcdda6a",
   "metadata": {},
   "outputs": [],
   "source": [
    "frequencies=np.arange(1, total_sample_size+1)/(total_sample_size+1)\n",
    "SNPs = smooth(afs[1:], threshold=1000, rescale=200)\n",
    "data_x=[]\n",
    "data_y=[]\n",
    "for i in range(len(frequencies)):\n",
    "    if frequencies[i]>=transition_freq:\n",
    "        data_x.append(frequencies[i])\n",
    "        data_y.append(SNPs[i])"
   ]
  },
  {
   "cell_type": "code",
   "execution_count": 11,
   "id": "86a932c3-753c-4f01-8034-81103b4cbc11",
   "metadata": {
    "tags": []
   },
   "outputs": [],
   "source": [
    "f=L*np.array(data_x)\n",
    "u=1\n",
    "fit=(u*L)/(m*Deme_density) * (1-np.array(data_x))"
   ]
  },
  {
   "cell_type": "markdown",
   "id": "fbb8045f-2472-4e0a-8004-bfc56011565d",
   "metadata": {},
   "source": [
    "#### Saving data "
   ]
  },
  {
   "cell_type": "code",
   "execution_count": 14,
   "id": "00d9238f-12da-48b9-bb1d-5a934495229f",
   "metadata": {},
   "outputs": [],
   "source": [
    "AF_xpoints = np.arange(1,total_sample_size+1)/(total_sample_size)\n",
    "\n",
    "\n",
    "Maruyama_effective_ydata = Theta_eff / np.arange(1,total_sample_size+1)\n",
    "\n",
    "\n",
    "Maruyama_census_ydata = Theta_real / np.arange(1,total_sample_size+1)\n",
    "\n",
    "Simulated_data = smooth(afs[1:], threshold=thresh, rescale=scale)\n",
    "np.savetxt('Simulated_data_mrholess.csv', Simulated_data , delimiter=',')\n",
    "\n",
    "error_data =np.array(smooth_sem(afs[1:], threshold=thresh, rescale=scale))\n",
    "np.savetxt('Simulated_data_mrholess_error.csv', error_data , delimiter=',')\n",
    "\n",
    "transition_frequency=max(Deme_density,(m*Deme_density**2))/total_sample_size\n",
    "\n",
    "\n",
    "bi_directional_prediction = single_deme_pred \n",
    "np.savetxt('bi_directional_prediction_mrholess.csv', bi_directional_prediction , delimiter=',')\n",
    "\n",
    "voter_model_prediction = fit\n",
    "np.savetxt('voter_model_prediction_mrholess.csv', voter_model_prediction , delimiter=',')\n",
    "\n",
    "a=[]\n",
    "y=np.arange(1,total_sample_size)/total_sample_size\n",
    "for i in range (len(y)):\n",
    "    if np.min(y)<=y[i]<=transition_freq:\n",
    "        a.append(y[i])\n",
    "scaled_x_bidirection_points=np.array(a) \n",
    "\n",
    "frequencies=np.arange(1, total_sample_size+1)/(total_sample_size+1)\n",
    "SNPs = smooth(afs[1:], threshold=1000, rescale=200)\n",
    "data_x=[]\n",
    "data_y=[]\n",
    "for i in range(len(frequencies)):\n",
    "    if frequencies[i]>=transition_freq:\n",
    "        data_x.append(frequencies[i])\n",
    "        data_y.append(SNPs[i])\n",
    "voter_xdata =  data_x\n"
   ]
  },
  {
   "cell_type": "markdown",
   "id": "c77067db-3626-468a-bb26-b3e60f2a43b4",
   "metadata": {},
   "source": [
    "### Section 3: Final Graph(s)"
   ]
  },
  {
   "cell_type": "code",
   "execution_count": 15,
   "id": "9abec701-263a-4675-9f9e-bb18a9c9dfa5",
   "metadata": {},
   "outputs": [],
   "source": [
    "AF_xpoints = np.arange(1,total_sample_size+1)/(total_sample_size)\n",
    "\n",
    "\n",
    "Maruyama_effective_ydata = Theta_eff / np.arange(1,total_sample_size+1)\n",
    "\n",
    "\n",
    "Maruyama_census_ydata = Theta_real / np.arange(1,total_sample_size+1)\n",
    "\n",
    "Simulated_data_read = np.array(pd.read_csv('Simulated_data_mrholess.csv'))\n",
    "\n",
    "error_data_read= np.array(pd.read_csv('Simulated_data_mrholess_error.csv'))\n",
    "\n",
    "bi_directional_prediction_read=np.array(pd.read_csv('bi_directional_prediction_mrholess.csv'))\n",
    "\n",
    "\n",
    "\n",
    "voter_model_prediction_read=np.array(pd.read_csv('voter_model_prediction_mrholess.csv'))\n",
    "\n",
    "a=[]\n",
    "y=np.arange(1,total_sample_size)/total_sample_size\n",
    "for i in range (len(y)):\n",
    "    if np.min(y)<=y[i]<=transition_freq:\n",
    "        a.append(y[i])\n",
    "scaled_x_bidirection_points=np.array(a) \n",
    "\n",
    "frequencies=np.arange(1, total_sample_size+1)/(total_sample_size+1)\n",
    "SNPs = smooth(afs[1:], threshold=1000, rescale=200)\n",
    "data_x=[]\n",
    "data_y=[]\n",
    "for i in range(len(frequencies)):\n",
    "    if frequencies[i]>=transition_freq:\n",
    "        data_x.append(frequencies[i])\n",
    "        data_y.append(SNPs[i])\n",
    "voter_xdata =  data_x\n",
    "\n"
   ]
  },
  {
   "cell_type": "code",
   "execution_count": 18,
   "id": "20d356f2-edc8-441b-9fee-e2c0a8702276",
   "metadata": {},
   "outputs": [
    {
     "data": {
      "image/png": "[encoded data removed]",
      "text/plain": [
       "<Figure size 640x480 with 1 Axes>"
      ]
     },
     "metadata": {},
     "output_type": "display_data"
    }
   ],
   "source": [
    "err=error_data_read.flatten()\n",
    "transition_freq=max(Deme_density,(m*Deme_density**2))/total_sample_size\n",
    "\n",
    "plt.loglog(AF_xpoints, Maruyama_effective_ydata, color=\"red\", label=r\"$N_e=\\dfrac{L^2}{2m\\pi^2}$\")\n",
    "plt.loglog(AF_xpoints,Maruyama_census_ydata, color=\"blue\", label=r\" $N_e=\\rho L$\")\n",
    "plt.errorbar(AF_xpoints[1:], Simulated_data_read.flatten() , yerr=err, ecolor=\"lime\", label=\"Simulation\")\n",
    "#plt.loglog(np.arange(1, total_sample_size+1)/(total_sample_size+1),smooth(afs[1:], threshold=1000, rescale=200), color=\"green\",linewidth=0.5) \n",
    "#plt.axvline(0.2,color=\"orange\")\n",
    "plt.loglog(scaled_x_bidirection_points[1:], bi_directional_prediction_read.flatten() ,\"magenta\", label='Back-migration')\n",
    "plt.axvline(transition_freq,color='purple', linestyle = '--')\n",
    "plt.text(0.000015,600,r\"Transition frequency = $\\dfrac{1}{L}$\",fontsize='11')\n",
    "\n",
    "plt.loglog(voter_xdata[:-1],voter_model_prediction_read.flatten() , color='orange', label=\"Voter model \")\n",
    "plt.xlabel(\"Allele frequency\")\n",
    "plt.ylabel('SNP count')\n",
    "plt.legend(prop={\"size\":10},loc=\"upper right\")\n",
    "#plt.legend([\"Predicted AFS for population of effective size Ne\", \"Predicted AFS for population of census size N\", \"Simulated expected AFS\", 'Transition frequency', \"W-F fit\", \"Master fit\"], loc =\"upper right\")\n",
    "#plt.legend([r\"Predicted AFS for well-mixed population of effective size $N_e=\\frac{L^2}{2m\\pi^2}$\", r\"Predicted AFS for well-mixed population of census size $N=\\rho L$\", \"W-F fit\" , r\"Transition frequency = $\\frac{1}{L}$\", \"Voter fit\",\"Simulated expected AFS\"], loc =\"upper right\", fontsize=10)\n",
    "plt.ylim(10**2., 10**5.5)\n",
    "plt.savefig(\"1d_mrholess.pdf\", bbox_inches = \"tight\")"
   ]
  },
  {
   "cell_type": "code",
   "execution_count": null,
   "id": "41240e93-ef5a-48c6-a1ea-f0c913271f6b",
   "metadata": {},
   "outputs": [],
   "source": []
  }
 ],
 "metadata": {
  "kernelspec": {
   "display_name": "Python 3 (ipykernel)",
   "language": "python",
   "name": "python3"
  },
  "language_info": {
   "codemirror_mode": {
    "name": "ipython",
    "version": 3
   },
   "file_extension": ".py",
   "mimetype": "text/x-python",
   "name": "python",
   "nbconvert_exporter": "python",
   "pygments_lexer": "ipython3",
   "version": "3.10.9"
  }
 },
 "nbformat": 4,
 "nbformat_minor": 5
}
